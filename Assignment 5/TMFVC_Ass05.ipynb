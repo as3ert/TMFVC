{
 "cells": [
  {
   "cell_type": "markdown",
   "metadata": {},
   "source": [
    "<hr>\n",
    "<p style=\"text-align:left;\">\n",
    "    <img src=\"data:image/png;base64,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\" style=\"height:50px\" />\n",
    "    <span style=\"float:right;\">\n",
    "        University of Stuttgart<br />Visualization Research Center\n",
    "    </span>\n",
    "</p>\n",
    "<hr>\n",
    "<p style=\"text-align:left;\">\n",
    "    <span style=\"float:left;\">\n",
    "        Prof. Daniel Weiskopf\n",
    "    </span>\n",
    "    <span style=\"float:right;\">\n",
    "        Sunday, 2024-11-17\n",
    "    </span>\n",
    "</p>\n",
    "<br/>"
   ]
  },
  {
   "cell_type": "markdown",
   "metadata": {},
   "source": [
    "# Theoretical and Methodological Foundations of Visual Computing\n",
    "## Assignment 05\n",
    "Responsible tutor: Isha Sharma\n",
    "<br/>\n",
    "\n",
    "> *Please submit your solution to ILIAS by <b>Sunday, 2024-11-24, 23:55</b>. <br /> Solutions will be discussed in the tutorial on <b>Thursday, 2024-11-28</b>.* <br /> *Please note that source code will only be accepted if it compiles.*\n",
    "<hr>\n",
    "\n",
    "**Student name(s):** <font color='green'>Guangxin Zhao</font> <br />\n",
    "**Immatriculation number(s):** <font color='green'>st194136</font> <br />\n",
    "\n",
    "<hr>"
   ]
  },
  {
   "cell_type": "markdown",
   "metadata": {},
   "source": [
    "### Exercise 5.1 (4 points)\n",
    "Given the cone in $\\reals^3$ with base radius $R$, height $H$ (see figure), compute its surface area using surface integral. Note that the area of the base is not included.\n",
    "\n",
    "\t*Hint: Parametrize the cone using cylindrical coordinates.*\n",
    "\n",
    "\n",
    "<div align=\"center\">\n",
    "  <img src=\"cone3.png\" alt=\"Figure: A cone illustration.\" width=\"30%\">\n",
    "  <p><strong>Figure 1</strong></p>\n",
    "</div>\n",
    "\n"
   ]
  },
  {
   "cell_type": "markdown",
   "metadata": {},
   "source": [
    "<font color='green'>Cell left blank for student response</font>"
   ]
  },
  {
   "cell_type": "markdown",
   "metadata": {},
   "source": [
    "<hr>"
   ]
  },
  {
   "cell_type": "markdown",
   "metadata": {},
   "source": [
    "### Exercise 5.2 (4 points)\n",
    "\n",
    "Given the function $f(x)=\\frac{1}{1+\\sinh{(2x)}\\log^2x}$ in the domain $\\mathbb{D}=(0,1]$.\n",
    "\n",
    "- **a)** Calculate the integral $\\int_{\\mathbb{D}}f(x)\\mathrm{d}x$ using Monte Carlo integration based on the MC estimator $F_N=\\frac{b-a}{N}\\sum^{N}_{i=1}f(X_i)$ and give the error depending on the number of sample values $N$. Implement a solution in python.\n",
    "\n",
    "- **b)** Implement integration using the Simpson rule in python and compare your result to the result of a) by visualizing the convergence of both approaches.\n",
    "\n"
   ]
  },
  {
   "cell_type": "code",
   "execution_count": 1,
   "metadata": {},
   "outputs": [],
   "source": [
    "#YOUR CODE HERE"
   ]
  },
  {
   "cell_type": "markdown",
   "metadata": {},
   "source": [
    "<hr>"
   ]
  },
  {
   "cell_type": "markdown",
   "metadata": {},
   "source": [
    "### Exercise 5.3 (6 points)\n",
    "\n",
    "Given the unit hemisphere $\\mathcal{H}^2$ and the probability density function (PDF) with $\\rho: \\reals^2 \\rightarrow \\reals,\\ \\theta \\in [0,\\pi/2], \\phi \\in [0, 2\\pi]$\n",
    "\n",
    "$\\rho(\\theta, \\phi) = c \\cos\\theta \\sin\\theta.$\n",
    "\n",
    "- **a)** Determine the normalization constant $c$ on the hemisphere $\\mathcal{H}^2$.\n",
    "\n",
    "- **b)** Calculate the marginal density functions and conditional density functions.\n",
    "\n",
    "- **c)** Give the sampling functions for a point $(\\theta,\\phi)$ depending on the uniform samples $\\xi_1,\\xi_2\\in [0,1]$. To do this, first calculate the cumulative distribution function for $\\theta$.\n",
    "\t\t\n",
    "\n"
   ]
  },
  {
   "cell_type": "markdown",
   "metadata": {},
   "source": [
    "<font color='green'>Cell left blank for student response</font>"
   ]
  },
  {
   "cell_type": "markdown",
   "metadata": {},
   "source": [
    "<hr>"
   ]
  },
  {
   "cell_type": "markdown",
   "metadata": {},
   "source": [
    "### Exercise 5.4 (6 points)\n",
    "\n",
    "Given the initial value problem\n",
    "  \n",
    "  $y'(x)=2x(y(x))^2,\\ \\ y(0)=y_0>0$\n",
    "  \n",
    "  with $x\\in I\\subset\\mathbb{R},\\ y\\in J\\subset\\mathbb{R}$. Determine the solution $y(x)$ and the maximum definition interval $I_0$ for $x$.\n",
    "  \n",
    "\n",
    "\t\t\n",
    "\n"
   ]
  },
  {
   "cell_type": "markdown",
   "metadata": {},
   "source": []
  },
  {
   "cell_type": "markdown",
   "metadata": {},
   "source": [
    "<font color='green'>Cell left blank for student response</font>"
   ]
  },
  {
   "cell_type": "markdown",
   "metadata": {},
   "source": [
    "<hr>"
   ]
  },
  {
   "cell_type": "markdown",
   "metadata": {},
   "source": [
    "### Bonus-Exercise (3 points)\n",
    "1. The numerical integration of a linear function $g: \\mathbb{R} \\rightarrow \\mathbb{R}$ is . . .\n",
    "\n",
    "- [ ] exact for the Simpson’s Rule but not for the trapezoidal rule and midpoint rule.\n",
    "- [ ] exact for the Simpson’s Rule and trapezoidal rule but not for the midpoint rule.\n",
    "- [ ] exact for the Simpson’s Rule, trapezoidal rule, and midpoint rule.\n",
    "- [ ] not exact for the Simpson’s Rule, trapezoidal rule, and midpoint rule.\n",
    "\n",
    "2. The Monte Carlo integration of the function $f(x) = x^4$ on the interval $[-1,1]$ can be improved by the following probability density function (importance sampling):\n",
    "\n",
    "<div style=\"display: flex; justify-content: space-around;\">\n",
    "\n",
    "<div style=\"text-align: center; width: 25%;\">\n",
    "<img src=\"pdf1.png\" alt=\"$\\square$\" style=\"width: 100%;\">\n",
    "<p>[ ]</p>\n",
    "</div>\n",
    "\n",
    "<div style=\"text-align: center; width: 25%;\">\n",
    "<img src=\"pdf2.png\" alt=\"$\\square$\" style=\"width: 100%;\">\n",
    "<p>[ ]</p>\n",
    "</div>\n",
    "\n",
    "<div style=\"text-align: center; width: 25%;\">\n",
    "<img src=\"pdf3.png\" alt=\"$\\square$\" style=\"width: 100%;\">\n",
    "<p>[ ]</p>\n",
    "</div>\n",
    "\n",
    "<div style=\"text-align: center; width: 25%;\">\n",
    "<img src=\"pdf4.png\" alt=\"$\\square$\" style=\"width: 100%;\">\n",
    "<p>[ ]</p>\n",
    "</div>\n",
    "\n",
    "</div>\n",
    "\n",
    "\n",
    "\n",
    "3. What is the approximate result of the following MATLAB code? Hint: executing\n",
    "the code takes nearly 7 days\n",
    "\n",
    "\n",
    "```python\n",
    "\n",
    "def f(x):\n",
    "    return np.exp(-x**2)\n",
    "\n",
    "result = 0\n",
    "num_iterations = 10**10\n",
    "\n",
    "for k in range(num_iterations):\n",
    "    #xi is a uniformly distributed value between -1000 and 1000\n",
    "    xi = np.random.uniform(-1000, 1000)\n",
    "    result += f(xi)\n",
    "\n",
    "result = result / num_iterations\n",
    "result = result * 2000\n",
    "\n",
    "print(f\"The result: {result:.6f}\")\n",
    "\n",
    "```\n",
    "\n",
    "- [ ] the result is 0.\n",
    "- [ ] the result is √π.\n",
    "- [ ] the result is √2π.\n",
    "- [ ] the result is inf."
   ]
  },
  {
   "cell_type": "markdown",
   "metadata": {},
   "source": [
    "<div class=\"alert alert-success\">\n",
    "\n",
    "### Guidelines for Submission\n",
    "\n",
    "Do not forget to update the student name(s) and matriculation number(s). \n",
    "\n",
    "**Text-based Responses**\n",
    "\n",
    "For text-based questions, a markdown cell with the placeholder `Cell left blank for student response` will usually follow the question. Ensure that text responses are either entered in markdown cells using plain text and LaTeX or via the import of PDFs or PNG files (e.g. via `![ExampleFileName](example_file.png)` for handwritten solutions). If external files are used in your Jupyter Notebook, make sure to include all data in a zipped folder uploaded to Ilias.\n",
    "\n",
    "**Code-based Responses**\n",
    "\n",
    "For questions that involve Python coding, you'll typically find a code cell with the placeholder `# YOUR CODE HERE`.\n",
    "\n",
    "#### Submission Process\n",
    "\n",
    "To ensure your notebook runs smoothly from start to finish, select \"Restart & Run All\" from the \"Kernel\" menu before submitting.\n",
    "\n",
    "When ready to submit, upload your `.ipynb` file (or a zipped folder containing the `.ipynb` file as well as all auxiliary files, e.g. imported .pdf or .jpg files) to Ilias.\n",
    "\n",
    "</div>"
   ]
  }
 ],
 "metadata": {
  "kernelspec": {
   "display_name": "base",
   "language": "python",
   "name": "python3"
  },
  "language_info": {
   "codemirror_mode": {
    "name": "ipython",
    "version": 3
   },
   "file_extension": ".py",
   "mimetype": "text/x-python",
   "name": "python",
   "nbconvert_exporter": "python",
   "pygments_lexer": "ipython3",
   "version": "3.11.5"
  }
 },
 "nbformat": 4,
 "nbformat_minor": 4
}
