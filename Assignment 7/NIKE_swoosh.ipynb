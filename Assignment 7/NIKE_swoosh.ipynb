{
 "cells": [
  {
   "cell_type": "code",
   "execution_count": null,
   "metadata": {},
   "outputs": [
    {
     "data": {
      "application/vnd.jupyter.widget-view+json": {
       "model_id": "ba66c7b6c14d4146b2a814a5afc8b7de",
       "version_major": 2,
       "version_minor": 0
      },
      "text/plain": [
       "interactive(children=(FloatSlider(value=-0.7, description='Top M0 x', max=4.0, min=-4.0), FloatSlider(value=-1…"
      ]
     },
     "metadata": {},
     "output_type": "display_data"
    },
    {
     "data": {
      "text/plain": [
       "<function __main__.plot_swoosh(top_m0_x, top_m0_y, top_m1_x, top_m1_y, bottom_m0_x, bottom_m0_y, bottom_m1_x, bottom_m1_y)>"
      ]
     },
     "execution_count": 2,
     "metadata": {},
     "output_type": "execute_result"
    }
   ],
   "source": [
    "import numpy as np\n",
    "import matplotlib.pyplot as plt\n",
    "from ipywidgets import interact, FloatSlider\n",
    "\n",
    "# Define Hermite basis functions\n",
    "def H0(t):\n",
    "    return 2 * t**3 - 3 * t**2 + 1\n",
    "\n",
    "def H1(t):\n",
    "    return -2 * t**3 + 3 * t**2\n",
    "\n",
    "def H2(t):\n",
    "    return t**3 - 2 * t**2 + t\n",
    "\n",
    "def H3(t):\n",
    "    return t**3 - t**2\n",
    "\n",
    "# Hermite interpolation function\n",
    "def Hermite_interpolation_interactive(P, M, t):\n",
    "    \"\"\"\n",
    "    Compute Hermite interpolation for a given parameter t.\n",
    "    \"\"\"\n",
    "    return H0(t) * P[0] + H1(t) * P[1] + H2(t) * M[0] + H3(t) * M[1]\n",
    "\n",
    "# Interactive plot function\n",
    "def plot_swoosh(top_m0_x, top_m0_y, top_m1_x, top_m1_y, bottom_m0_x, bottom_m0_y, bottom_m1_x, bottom_m1_y):\n",
    "    # Control points\n",
    "    P = np.array([[0, 0],  # P0\n",
    "                  [1, 0]])  # P1\n",
    "\n",
    "    # Tangents for top and bottom curves\n",
    "    M_top = np.array([[top_m0_x, top_m0_y], [top_m1_x, top_m1_y]])\n",
    "    M_bottom = np.array([[bottom_m0_x, bottom_m0_y], [bottom_m1_x, bottom_m1_y]])\n",
    "\n",
    "    # Generate t values for interpolation\n",
    "    t_values = np.linspace(0, 1, 100)\n",
    "\n",
    "    # Compute top and bottom curves\n",
    "    top_curve = np.array([Hermite_interpolation_interactive(P, M_top, t) for t in t_values])\n",
    "    bottom_curve = np.array([Hermite_interpolation_interactive(P, M_bottom, t) for t in t_values])\n",
    "\n",
    "    # Plot the Swoosh\n",
    "    plt.figure(figsize=(8, 6))\n",
    "    plt.plot(top_curve[:, 0], top_curve[:, 1], label=\"Top Curve\", color=\"blue\")\n",
    "    plt.plot(bottom_curve[:, 0], bottom_curve[:, 1], label=\"Bottom Curve\", color=\"orange\")\n",
    "\n",
    "    # Add control points and tangents for visualization\n",
    "    plt.scatter(P[:, 0], P[:, 1], color=\"red\", label=\"Control Points\")\n",
    "    # plt.quiver(P[0, 0], P[0, 1], M_top[0, 0], M_top[0, 1], color=\"red\", angles=\"xy\", scale_units=\"xy\", scale=1, label=\"Tangent at P0 (Top)\")\n",
    "    # plt.quiver(P[1, 0], P[1, 1], M_top[1, 0], M_top[1, 1], color=\"red\", angles=\"xy\", scale_units=\"xy\", scale=1, label=\"Tangent at P1 (Top)\")\n",
    "    # plt.quiver(P[0, 0], P[0, 1], M_bottom[0, 0], M_bottom[0, 1], color=\"green\", angles=\"xy\", scale_units=\"xy\", scale=1, label=\"Tangent at P0 (Bottom)\")\n",
    "    # plt.quiver(P[1, 0], P[1, 1], M_bottom[1, 0], M_bottom[1, 1], color=\"green\", angles=\"xy\", scale_units=\"xy\", scale=1, label=\"Tangent at P1 (Bottom)\")\n",
    "    \n",
    "    img = plt.imread('Logo_NIKE.png')\n",
    "    image_width = img.shape[1]\n",
    "    image_height = img.shape[0]\n",
    "    aspect = image_width / image_height\n",
    "\n",
    "\t# Rescale the image to fit x = [0, 1]\n",
    "    x_min, x_max = -0.175, 1\n",
    "    y_center = -0.21\n",
    "    y_height = (x_max - x_min) / aspect  # Scale y based on the aspect ratio\n",
    "    y_min = y_center - y_height / 2\n",
    "    y_max = y_center + y_height / 2\n",
    "\n",
    "    # Display the image\n",
    "    plt.imshow(img, extent=[x_min, x_max, y_min, y_max])\n",
    "\n",
    "    # Finalize the plot\n",
    "    plt.gca().set_aspect(\"equal\")\n",
    "    plt.title(\"Interactive Hermite Interpolation: Nike Swoosh\")\n",
    "    plt.xlabel(\"x\")\n",
    "    plt.ylabel(\"y\")\n",
    "    plt.grid()\n",
    "\n",
    "# Create interactive sliders\n",
    "interact(\n",
    "    plot_swoosh,\n",
    "    top_m0_x=FloatSlider(value=-0.7, min=-4, max=4, step=0.1, description=\"Top M0 x\"),\n",
    "    top_m0_y=FloatSlider(value=-1.3, min=-4, max=4, step=0.1, description=\"Top M0 y\"),\n",
    "    top_m1_x=FloatSlider(value=2, min=-4, max=4, step=0.1, description=\"Top M1 x\"),\n",
    "    top_m1_y=FloatSlider(value=0.6, min=-4, max=4, step=0.1, description=\"Top M1 y\"),\n",
    "    bottom_m0_x=FloatSlider(value=-1.3, min=-4, max=4, step=0.1, description=\"Bottom M0 x\"),\n",
    "    bottom_m0_y=FloatSlider(value=-2, min=-4, max=4, step=0.1, description=\"Bottom M0 y\"),\n",
    "    bottom_m1_x=FloatSlider(value=2.7, min=-4, max=4, step=0.1, description=\"Bottom M1 x\"),\n",
    "    bottom_m1_y=FloatSlider(value=1.2, min=-4, max=4, step=0.1, description=\"Bottom M1 y\"),\n",
    ")"
   ]
  }
 ],
 "metadata": {
  "kernelspec": {
   "display_name": "base",
   "language": "python",
   "name": "python3"
  },
  "language_info": {
   "codemirror_mode": {
    "name": "ipython",
    "version": 3
   },
   "file_extension": ".py",
   "mimetype": "text/x-python",
   "name": "python",
   "nbconvert_exporter": "python",
   "pygments_lexer": "ipython3",
   "version": "3.11.5"
  }
 },
 "nbformat": 4,
 "nbformat_minor": 2
}
